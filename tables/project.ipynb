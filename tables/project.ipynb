{
 "cells": [
  {
   "cell_type": "code",
   "execution_count": 2,
   "metadata": {},
   "outputs": [],
   "source": [
    "import psycopg2\n",
    "import pandas as pd"
   ]
  },
  {
   "attachments": {},
   "cell_type": "markdown",
   "metadata": {},
   "source": [
    "#### Create a database connection"
   ]
  },
  {
   "cell_type": "code",
   "execution_count": 3,
   "metadata": {},
   "outputs": [],
   "source": [
    "def create_database():\n",
    "    #Connect to default database\n",
    "    conn = psycopg2.connect(\"host=localhost dbname=postgres user=postgres password=root\")\n",
    "    conn.set_session(autocommit=True)\n",
    "    cur = conn.cursor()\n",
    "\n",
    "    #Create sparkify database with utf-8 encoding\n",
    "    cur.execute(\"DROP DATABASE IF EXISTS plants\")\n",
    "    cur.execute(\"CREATE DATABASE plants\")\n",
    "\n",
    "    #close connection to default database\n",
    "    conn.close()\n",
    "    cur.close()\n",
    "\n",
    "    #connect to sparkify database\n",
    "    conn = psycopg2.connect(\"host=localhost dbname=plants user=postgres password=root\")\n",
    "    cur = conn.cursor()\n",
    "\n",
    "    return cur, conn"
   ]
  },
  {
   "cell_type": "code",
   "execution_count": null,
   "metadata": {},
   "outputs": [],
   "source": [
    "def drop_tables(cur, conn):\n",
    "    for query in drop_table_queries:\n",
    "        cur.execute(query)\n",
    "        conn.commit()"
   ]
  },
  {
   "cell_type": "code",
   "execution_count": null,
   "metadata": {},
   "outputs": [],
   "source": [
    "def create_tables(cur, conn):\n",
    "    for query in create_table_queries:\n",
    "        cur.execute(query)\n",
    "        conn.commit()\n"
   ]
  },
  {
   "cell_type": "code",
   "execution_count": 15,
   "metadata": {},
   "outputs": [],
   "source": [
    "crop1 = pd.read_csv(\"data/crop1.csv\")"
   ]
  },
  {
   "cell_type": "code",
   "execution_count": 36,
   "metadata": {},
   "outputs": [
    {
     "data": {
      "text/html": [
       "<div>\n",
       "<style scoped>\n",
       "    .dataframe tbody tr th:only-of-type {\n",
       "        vertical-align: middle;\n",
       "    }\n",
       "\n",
       "    .dataframe tbody tr th {\n",
       "        vertical-align: top;\n",
       "    }\n",
       "\n",
       "    .dataframe thead th {\n",
       "        text-align: right;\n",
       "    }\n",
       "</style>\n",
       "<table border=\"1\" class=\"dataframe\">\n",
       "  <thead>\n",
       "    <tr style=\"text-align: right;\">\n",
       "      <th></th>\n",
       "      <th>Area</th>\n",
       "      <th>Item</th>\n",
       "      <th>Element</th>\n",
       "      <th>Year</th>\n",
       "      <th>Unit</th>\n",
       "      <th>Value</th>\n",
       "    </tr>\n",
       "  </thead>\n",
       "  <tbody>\n",
       "    <tr>\n",
       "      <th>1</th>\n",
       "      <td>Afghanistan</td>\n",
       "      <td>Almonds, with shell</td>\n",
       "      <td>Area harvested</td>\n",
       "      <td>1976</td>\n",
       "      <td>ha</td>\n",
       "      <td>5900.0</td>\n",
       "    </tr>\n",
       "    <tr>\n",
       "      <th>2</th>\n",
       "      <td>Afghanistan</td>\n",
       "      <td>Almonds, with shell</td>\n",
       "      <td>Area harvested</td>\n",
       "      <td>1977</td>\n",
       "      <td>ha</td>\n",
       "      <td>6000.0</td>\n",
       "    </tr>\n",
       "    <tr>\n",
       "      <th>3</th>\n",
       "      <td>Afghanistan</td>\n",
       "      <td>Almonds, with shell</td>\n",
       "      <td>Area harvested</td>\n",
       "      <td>1978</td>\n",
       "      <td>ha</td>\n",
       "      <td>6000.0</td>\n",
       "    </tr>\n",
       "    <tr>\n",
       "      <th>4</th>\n",
       "      <td>Afghanistan</td>\n",
       "      <td>Almonds, with shell</td>\n",
       "      <td>Area harvested</td>\n",
       "      <td>1979</td>\n",
       "      <td>ha</td>\n",
       "      <td>6000.0</td>\n",
       "    </tr>\n",
       "  </tbody>\n",
       "</table>\n",
       "</div>"
      ],
      "text/plain": [
       "          Area                 Item         Element  Year Unit   Value\n",
       "1  Afghanistan  Almonds, with shell  Area harvested  1976   ha  5900.0\n",
       "2  Afghanistan  Almonds, with shell  Area harvested  1977   ha  6000.0\n",
       "3  Afghanistan  Almonds, with shell  Area harvested  1978   ha  6000.0\n",
       "4  Afghanistan  Almonds, with shell  Area harvested  1979   ha  6000.0"
      ]
     },
     "execution_count": 36,
     "metadata": {},
     "output_type": "execute_result"
    }
   ],
   "source": [
    "crop1.head()"
   ]
  },
  {
   "attachments": {},
   "cell_type": "markdown",
   "metadata": {},
   "source": [
    "#### Clean Data and rows with null values"
   ]
  },
  {
   "cell_type": "code",
   "execution_count": 58,
   "metadata": {},
   "outputs": [
    {
     "name": "stdout",
     "output_type": "stream",
     "text": [
      "pre crops :0\n",
      "post crops :0\n"
     ]
    }
   ],
   "source": [
    "print(f\"pre crops :{crop1['Value'].isin([0]).sum()}\")\n",
    "crop1 = crop1[crop1['Value'] != 0]\n",
    "print(f\"post crops :{crop1['Value'].isin([0]).sum()}\")"
   ]
  },
  {
   "cell_type": "code",
   "execution_count": 37,
   "metadata": {},
   "outputs": [],
   "source": [
    "live1 = pd.read_csv(\"data/live1.csv\")"
   ]
  },
  {
   "cell_type": "code",
   "execution_count": 66,
   "metadata": {},
   "outputs": [
    {
     "data": {
      "text/html": [
       "<div>\n",
       "<style scoped>\n",
       "    .dataframe tbody tr th:only-of-type {\n",
       "        vertical-align: middle;\n",
       "    }\n",
       "\n",
       "    .dataframe tbody tr th {\n",
       "        vertical-align: top;\n",
       "    }\n",
       "\n",
       "    .dataframe thead th {\n",
       "        text-align: right;\n",
       "    }\n",
       "</style>\n",
       "<table border=\"1\" class=\"dataframe\">\n",
       "  <thead>\n",
       "    <tr style=\"text-align: right;\">\n",
       "      <th></th>\n",
       "      <th>Area</th>\n",
       "      <th>Item</th>\n",
       "      <th>Element</th>\n",
       "      <th>Year</th>\n",
       "      <th>Unit</th>\n",
       "      <th>Value</th>\n",
       "    </tr>\n",
       "  </thead>\n",
       "  <tbody>\n",
       "    <tr>\n",
       "      <th>0</th>\n",
       "      <td>Afghanistan</td>\n",
       "      <td>Asses</td>\n",
       "      <td>Stocks</td>\n",
       "      <td>1961</td>\n",
       "      <td>Head</td>\n",
       "      <td>1300000.0</td>\n",
       "    </tr>\n",
       "    <tr>\n",
       "      <th>1</th>\n",
       "      <td>Afghanistan</td>\n",
       "      <td>Asses</td>\n",
       "      <td>Stocks</td>\n",
       "      <td>1962</td>\n",
       "      <td>Head</td>\n",
       "      <td>851850.0</td>\n",
       "    </tr>\n",
       "    <tr>\n",
       "      <th>2</th>\n",
       "      <td>Afghanistan</td>\n",
       "      <td>Asses</td>\n",
       "      <td>Stocks</td>\n",
       "      <td>1963</td>\n",
       "      <td>Head</td>\n",
       "      <td>1001112.0</td>\n",
       "    </tr>\n",
       "    <tr>\n",
       "      <th>3</th>\n",
       "      <td>Afghanistan</td>\n",
       "      <td>Asses</td>\n",
       "      <td>Stocks</td>\n",
       "      <td>1964</td>\n",
       "      <td>Head</td>\n",
       "      <td>1150000.0</td>\n",
       "    </tr>\n",
       "    <tr>\n",
       "      <th>4</th>\n",
       "      <td>Afghanistan</td>\n",
       "      <td>Asses</td>\n",
       "      <td>Stocks</td>\n",
       "      <td>1965</td>\n",
       "      <td>Head</td>\n",
       "      <td>1300000.0</td>\n",
       "    </tr>\n",
       "  </tbody>\n",
       "</table>\n",
       "</div>"
      ],
      "text/plain": [
       "          Area   Item Element  Year  Unit      Value\n",
       "0  Afghanistan  Asses  Stocks  1961  Head  1300000.0\n",
       "1  Afghanistan  Asses  Stocks  1962  Head   851850.0\n",
       "2  Afghanistan  Asses  Stocks  1963  Head  1001112.0\n",
       "3  Afghanistan  Asses  Stocks  1964  Head  1150000.0\n",
       "4  Afghanistan  Asses  Stocks  1965  Head  1300000.0"
      ]
     },
     "execution_count": 66,
     "metadata": {},
     "output_type": "execute_result"
    }
   ],
   "source": [
    "live1.head()"
   ]
  },
  {
   "attachments": {},
   "cell_type": "markdown",
   "metadata": {},
   "source": [
    "#### clean dataset *isna()* and *isin([0])*"
   ]
  },
  {
   "cell_type": "code",
   "execution_count": null,
   "metadata": {},
   "outputs": [],
   "source": [
    "print(f\"Pre live:{live1.isin([0]).sum()}\")\n",
    "live1 = live1[live1['Value'] != 0]\n",
    "print(f\"Post live:{live1.isin([0]).sum()}\")"
   ]
  },
  {
   "cell_type": "code",
   "execution_count": 4,
   "metadata": {},
   "outputs": [],
   "source": [
    "cur,conn = create_database()"
   ]
  },
  {
   "cell_type": "code",
   "execution_count": 5,
   "metadata": {},
   "outputs": [],
   "source": [
    "crop_create = (\"\"\"CREATE TABLE IF NOT EXISTS crop(\n",
    "Area VARCHAR,\n",
    "Item VARCHAR,\n",
    "Element VARCHAR,\n",
    "Year INT,\n",
    "Unit VARCHAR,\n",
    "Value NUMERIC\n",
    ")\n",
    "\"\"\")"
   ]
  },
  {
   "cell_type": "code",
   "execution_count": 6,
   "metadata": {},
   "outputs": [],
   "source": [
    "cur.execute(crop_create)\n",
    "conn.commit()"
   ]
  },
  {
   "cell_type": "code",
   "execution_count": null,
   "metadata": {},
   "outputs": [],
   "source": [
    "live_create = (\"\"\"CREATE TABLE IF NOT EXISTS live(\n",
    "Area VARCHAR,\n",
    "Item VARCHAR,\n",
    "Element VARCHAR,\n",
    "Year INT,\n",
    "Unit VARCHAR,\n",
    "Value NUMERIC\n",
    ")\"\"\")"
   ]
  },
  {
   "cell_type": "code",
   "execution_count": null,
   "metadata": {},
   "outputs": [],
   "source": [
    "cur.execute(live_create)\n",
    "conn.commit()"
   ]
  }
 ],
 "metadata": {
  "kernelspec": {
   "display_name": "portfolio",
   "language": "python",
   "name": "python3"
  },
  "language_info": {
   "codemirror_mode": {
    "name": "ipython",
    "version": 3
   },
   "file_extension": ".py",
   "mimetype": "text/x-python",
   "name": "python",
   "nbconvert_exporter": "python",
   "pygments_lexer": "ipython3",
   "version": "3.9.16"
  },
  "orig_nbformat": 4,
  "vscode": {
   "interpreter": {
    "hash": "6fa5c05a5de1e3adae1a2aa8103d35408bc84953ffe5db1d1a8bcbe6c04da2db"
   }
  }
 },
 "nbformat": 4,
 "nbformat_minor": 2
}
